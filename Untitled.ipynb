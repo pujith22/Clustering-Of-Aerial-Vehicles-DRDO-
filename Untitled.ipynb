{
 "cells": [
  {
   "cell_type": "code",
   "execution_count": 2,
   "metadata": {},
   "outputs": [],
   "source": [
    "import random\n",
    "import numpy\n",
    "for i in range(5):\n",
    "    random.seed(i)\n",
    "    file = open(str(i)+\".csv\",\"w\")\n",
    "    x = random.random() + random.randint(1200,2000)\n",
    "    y = random.random() + random.randint(1200,2000)\n",
    "    z = random.random() + random.randint(1200,2000)\n",
    "    file.write(str(x)+\", \"+str(y)+\", \"+str(z)+\", \"+\"1.0\"+\"\\n\")\n",
    "    velocity = random.randint(740, 940)\n",
    "    for j in numpy.arange(1.5, 100, 0.5):\n",
    "        newX = x + random.random() + velocity*0.5\n",
    "        newY = y + random.random() + velocity*0.5\n",
    "        newZ = z + random.random() + velocity*0.5\n",
    "        x = newX\n",
    "        y = newY\n",
    "        z = newZ\n",
    "        file.write(str(x)+\", \"+str(y)+\", \"+str(z)+\", \"+str(j)+\"\\n\")\n",
    "    file.close()"
   ]
  },
  {
   "cell_type": "code",
   "execution_count": null,
   "metadata": {},
   "outputs": [],
   "source": [
    "def llarToWorld(lat, lon, alt, rad):\n",
    "    # see: http://www.mathworks.de/help/toolbox/aeroblks/llatoecefposition.html\n",
    "    f  = 0                              # flattening\n",
    "    ls = atan((1 - f)**2 * tan(lat))    # lambda\n",
    "    x = rad * cos(ls) * cos(lon) + alt * cos(lat) * cos(lon)\n",
    "    y = rad * cos(ls) * sin(lon) + alt * cos(lat) * sin(lon)\n",
    "    z = rad * sin(ls) + alt * sin(lat)\n",
    "    return c4d.Vector(x, y, z)"
   ]
  },
  {
   "cell_type": "code",
   "execution_count": null,
   "metadata": {},
   "outputs": [],
   "source": []
  }
 ],
 "metadata": {
  "kernelspec": {
   "display_name": "Python 3",
   "language": "python",
   "name": "python3"
  },
  "language_info": {
   "codemirror_mode": {
    "name": "ipython",
    "version": 3
   },
   "file_extension": ".py",
   "mimetype": "text/x-python",
   "name": "python",
   "nbconvert_exporter": "python",
   "pygments_lexer": "ipython3",
   "version": "3.7.1"
  }
 },
 "nbformat": 4,
 "nbformat_minor": 2
}
