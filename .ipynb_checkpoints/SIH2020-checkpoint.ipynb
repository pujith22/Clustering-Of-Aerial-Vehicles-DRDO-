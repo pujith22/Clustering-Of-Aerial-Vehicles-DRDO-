{
 "cells": [
  {
   "cell_type": "code",
   "execution_count": null,
   "metadata": {},
   "outputs": [],
   "source": [
    "import math\n",
    "fileName = \"data.txt\"\n",
    "data = fileName.open().read()\n",
    "dataList = []\n",
    "dataLineWise = list(data.split())\n",
    "for i in dataLineWise:\n",
    "    dataList.append((map(float, i.split(\", \"))))\n",
    "velocityList = []\n",
    "for i in range(len(dataList)-1):\n",
    "    velocityX = (dataList[i+1][0]-dataList[i][0])/(dataList[i+1][3]-dataList[i][3])\n",
    "    velocityY = (dataList[i+1][1]-dataList[i][1])/(dataList[i+1][3]-dataList[i][3])\n",
    "    velocityZ = (dataList[i+1][2]-dataList[i][2])/(dataList[i+1][3]-dataList[i][3])\n",
    "    velocity = math.sqrt(pow(velocityX,2)+pow(velocityY,2)+pow(velocityZ,2))\n",
    "    velocityList.append((velocityX,velocityY,velocityZ,velocity,dataList[i][3]))\n",
    "fileName.close()\n",
    "velocityFileName = \"velocity.txt\"\n",
    "velocityFile = open(velocityFileName,\"w\")\n",
    "for velocityData in velocityList:\n",
    "    velocityFile.write(str(velocityData[0])+\", \"+str(velocityData[1])+\", \"+str(velocityData[2])+\", \"+str(velocityData[3])+\", \"+str(velocityData[4])+\"\\n\")\n",
    "velocityFile.close() \n",
    "    \n"
   ]
  },
  {
   "cell_type": "code",
   "execution_count": null,
   "metadata": {},
   "outputs": [],
   "source": []
  }
 ],
 "metadata": {
  "kernelspec": {
   "display_name": "Python 3",
   "language": "python",
   "name": "python3"
  },
  "language_info": {
   "codemirror_mode": {
    "name": "ipython",
    "version": 3
   },
   "file_extension": ".py",
   "mimetype": "text/x-python",
   "name": "python",
   "nbconvert_exporter": "python",
   "pygments_lexer": "ipython3",
   "version": "3.7.1"
  }
 },
 "nbformat": 4,
 "nbformat_minor": 2
}
